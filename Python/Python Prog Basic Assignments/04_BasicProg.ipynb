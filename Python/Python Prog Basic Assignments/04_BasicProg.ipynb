{
 "cells": [
  {
   "cell_type": "code",
   "execution_count": null,
   "id": "36f91282-df44-45a4-9d93-f5dbb7d1d38e",
   "metadata": {},
   "outputs": [],
   "source": [
    "ASSIGNMENT 4"
   ]
  },
  {
   "cell_type": "code",
   "execution_count": null,
   "id": "65e5316a-c13c-48a3-a999-a30d016eb41f",
   "metadata": {},
   "outputs": [],
   "source": [
    "1.Write a Python Program to find the factorial of a number ?\n",
    ">>"
   ]
  },
  {
   "cell_type": "code",
   "execution_count": 5,
   "id": "be4c246d-09d6-44bb-9a3b-b7f3c8c17e62",
   "metadata": {},
   "outputs": [
    {
     "name": "stdin",
     "output_type": "stream",
     "text": [
      "Enter a number:  6\n"
     ]
    },
    {
     "data": {
      "text/plain": [
       "720"
      ]
     },
     "execution_count": 5,
     "metadata": {},
     "output_type": "execute_result"
    }
   ],
   "source": [
    "def factorial(num):\n",
    "    if (num < 1):\n",
    "        return 1\n",
    "    else:\n",
    "        return num*factorial(num-1)\n",
    "num = int(input(\"Enter a number: \"))\n",
    "factorial(6)"
   ]
  },
  {
   "cell_type": "code",
   "execution_count": null,
   "id": "0e677f8b-299c-47ba-9c1f-3fbc2a958a8a",
   "metadata": {},
   "outputs": [],
   "source": [
    "2.Write a Python Program to display the multiplication table ?\n",
    ">>"
   ]
  },
  {
   "cell_type": "code",
   "execution_count": 3,
   "id": "75446699-2ab3-4618-8c2f-05ddaf67c869",
   "metadata": {},
   "outputs": [
    {
     "name": "stdin",
     "output_type": "stream",
     "text": [
      "Enter a number:  11\n"
     ]
    },
    {
     "name": "stdout",
     "output_type": "stream",
     "text": [
      "11 x 1 = 11\n",
      "11 x 2 = 22\n",
      "11 x 3 = 33\n",
      "11 x 4 = 44\n",
      "11 x 5 = 55\n",
      "11 x 6 = 66\n",
      "11 x 7 = 77\n",
      "11 x 8 = 88\n",
      "11 x 9 = 99\n",
      "11 x 10 = 110\n"
     ]
    }
   ],
   "source": [
    "def multiplyTable(num):\n",
    "    for i in range(1,11):\n",
    "        print(f\"{num} x {i} = {num*i}\")\n",
    "        \n",
    "num = int(input(\"Enter a number: \"))\n",
    "multiplyTable(11)"
   ]
  },
  {
   "cell_type": "code",
   "execution_count": null,
   "id": "a91751fb-2846-420f-805a-fa70902f9215",
   "metadata": {},
   "outputs": [],
   "source": [
    "3.Write a Python Program to print the fibonacci sequence ?\n",
    ">>"
   ]
  },
  {
   "cell_type": "code",
   "execution_count": 27,
   "id": "963307a9-773a-45cc-9040-c165e5ad5d7c",
   "metadata": {},
   "outputs": [
    {
     "name": "stdin",
     "output_type": "stream",
     "text": [
      "Enter a no. for fibonacci sequence:  20\n"
     ]
    },
    {
     "name": "stdout",
     "output_type": "stream",
     "text": [
      "Fibonacci sequence for 20 is  [0, 1, 1, 2, 3, 5, 8, 13, 21, 34, 55, 89, 144, 233, 377, 610, 987, 1597, 2584, 4181]\n"
     ]
    }
   ],
   "source": [
    "num = int(input(\"Enter a no. for fibonacci sequence: \"))\n",
    "fib_list = [0,1]\n",
    "if num < 0:\n",
    "    print('Fibonacci sequence is not available')\n",
    "elif num <= 2 and num >=0:\n",
    "    print(f'Fibonacci sequence for {num} is ',fib_list)\n",
    "else:\n",
    "    for i in range(num):\n",
    "        if i >= 2:\n",
    "            fib_list.append(fib_list[i-1]+fib_list[i-2])\n",
    "    print(f'Fibonacci sequence for {num} is ',fib_list)"
   ]
  },
  {
   "cell_type": "code",
   "execution_count": null,
   "id": "87408580-b24b-4b06-86e3-4d2dc8115c2b",
   "metadata": {},
   "outputs": [],
   "source": [
    "4.Write a Python Program to check Armstrong number ?\n",
    ">>"
   ]
  },
  {
   "cell_type": "code",
   "execution_count": 33,
   "id": "5e3b6d15-8e79-4bf1-bd52-08ecc6077249",
   "metadata": {},
   "outputs": [
    {
     "name": "stdin",
     "output_type": "stream",
     "text": [
      "Enter a number:  153\n"
     ]
    },
    {
     "name": "stdout",
     "output_type": "stream",
     "text": [
      "153 is an Armstrong Number \n"
     ]
    }
   ],
   "source": [
    "def armstrongNumber():\n",
    "    num = input('Enter a number: ')\n",
    "    sum = 0\n",
    "    for x in range(len(num)):\n",
    "        sum = sum + pow(int(num[x]),3)\n",
    "    if sum == int(num):\n",
    "        print(f'{num} is an Armstrong Number ')\n",
    "    else:\n",
    "        print(f'{num} is not an Armstrong Number ')\n",
    "\n",
    "\n",
    "armstrongNumber()"
   ]
  },
  {
   "cell_type": "code",
   "execution_count": null,
   "id": "b3d94bf7-669c-40f0-a1e5-3f639786084a",
   "metadata": {},
   "outputs": [],
   "source": [
    "5.Write a Python Program to Find Armstrong number in an interval ?\n",
    ">>"
   ]
  },
  {
   "cell_type": "code",
   "execution_count": 42,
   "id": "c42595e0-6a7c-4ee7-855d-999c00ba3c8d",
   "metadata": {},
   "outputs": [
    {
     "name": "stdin",
     "output_type": "stream",
     "text": [
      "Enter the lower limit:  1\n",
      "Enter the upper limit:  600\n"
     ]
    },
    {
     "name": "stdout",
     "output_type": "stream",
     "text": [
      "Armstrong numbers between 1 and 600: [1, 153, 370, 371, 407]\n"
     ]
    }
   ],
   "source": [
    "def checkArmstrong(num, fib_list):\n",
    "    sum = 0\n",
    "    for i in range(len(num)):\n",
    "        sum = sum + pow(int(num[i]),3)\n",
    "    if sum == int(num):\n",
    "        fib_list.append(int(num))\n",
    "        \n",
    "lower_limit = int(input('Enter the lower limit: '))\n",
    "upper_limit = int(input('Enter the upper limit: '))\n",
    "fib_list = []\n",
    "\n",
    "if lower_limit > upper_limit:\n",
    "    print('Lower limit is more than upper limit')\n",
    "else:\n",
    "    for x in range(lower_limit,upper_limit+1):\n",
    "        checkArmstrong(str(x), fib_list)\n",
    "    print(f'Armstrong numbers between {lower_limit} and {upper_limit}: {fib_list}')"
   ]
  },
  {
   "cell_type": "code",
   "execution_count": null,
   "id": "e748d672-3d4e-4f0d-8fcd-350a26d274e0",
   "metadata": {},
   "outputs": [],
   "source": [
    "6.Write a Python Program to sum of natural numbers ?\n",
    ">>"
   ]
  },
  {
   "cell_type": "code",
   "execution_count": 52,
   "id": "ee6da90a-b567-41da-8c57-04c0d6028c5d",
   "metadata": {},
   "outputs": [
    {
     "name": "stdin",
     "output_type": "stream",
     "text": [
      "Enter a number:  6\n"
     ]
    },
    {
     "name": "stdout",
     "output_type": "stream",
     "text": [
      "Sum of 6 is 21.0\n"
     ]
    }
   ],
   "source": [
    "def sumOf(num):\n",
    "    sum = num*((num+1)/2)\n",
    "    print(f'Sum of {num} is {sum}')\n",
    "\n",
    "num = int(input('Enter a number: '))\n",
    "sumOf(num)"
   ]
  },
  {
   "cell_type": "code",
   "execution_count": null,
   "id": "f5e94ac2-8f68-44fd-91d8-13b86949a666",
   "metadata": {},
   "outputs": [],
   "source": []
  }
 ],
 "metadata": {
  "kernelspec": {
   "display_name": "Python 3 (ipykernel)",
   "language": "python",
   "name": "python3"
  },
  "language_info": {
   "codemirror_mode": {
    "name": "ipython",
    "version": 3
   },
   "file_extension": ".py",
   "mimetype": "text/x-python",
   "name": "python",
   "nbconvert_exporter": "python",
   "pygments_lexer": "ipython3",
   "version": "3.10.6"
  }
 },
 "nbformat": 4,
 "nbformat_minor": 5
}
