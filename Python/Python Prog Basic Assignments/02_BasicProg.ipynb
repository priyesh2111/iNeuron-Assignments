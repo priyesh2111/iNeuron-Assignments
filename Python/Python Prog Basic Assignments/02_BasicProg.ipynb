{
 "cells": [
  {
   "cell_type": "code",
   "execution_count": null,
   "id": "143d5859-2399-4ed4-9b1b-d985537a12f3",
   "metadata": {},
   "outputs": [],
   "source": [
    "ASSIGNMENT 2"
   ]
  },
  {
   "cell_type": "code",
   "execution_count": null,
   "id": "6219e9da-deef-42e2-9a1d-326e7084e2f1",
   "metadata": {},
   "outputs": [],
   "source": [
    "1.Write a Python program to convert Kilometers to Miles ?\n",
    ">>"
   ]
  },
  {
   "cell_type": "code",
   "execution_count": 2,
   "id": "e15e0aad-e627-40cc-a325-28b7bcbbfac8",
   "metadata": {},
   "outputs": [
    {
     "name": "stdin",
     "output_type": "stream",
     "text": [
      "Enter no of Kilometers:  5\n"
     ]
    },
    {
     "name": "stdout",
     "output_type": "stream",
     "text": [
      "5.0kms is equal to 3.105 miles\n"
     ]
    }
   ],
   "source": [
    "def kmToMiles():\n",
    "    kilometers = float(input('Enter no of Kilometers: '))\n",
    "    miles = kilometers*0.621\n",
    "    print(f\"{kilometers}kms is equal to {miles} miles\")\n",
    "    \n",
    "kmToMiles()"
   ]
  },
  {
   "cell_type": "code",
   "execution_count": null,
   "id": "6279958c-49a4-4ecd-925d-04de57a267a4",
   "metadata": {},
   "outputs": [],
   "source": [
    "2.Write a Python program to convert Celsius to Farenheit ?\n",
    ">>"
   ]
  },
  {
   "cell_type": "code",
   "execution_count": 8,
   "id": "b92444e5-1b7e-4597-a21e-edee85122a5c",
   "metadata": {},
   "outputs": [
    {
     "name": "stdin",
     "output_type": "stream",
     "text": [
      "Enter temperature in celsius:  32\n"
     ]
    },
    {
     "name": "stdout",
     "output_type": "stream",
     "text": [
      "89.6 is equal to 32 celsius\n"
     ]
    }
   ],
   "source": [
    "def celsiusToFarenheit():\n",
    "    celsius = int(input('Enter temperature in celsius: '))\n",
    "    farenheit = (celsius* 9/5) + 32 \n",
    "    print(f\"{farenheit} is equal to {celsius} celsius\")\n",
    "    \n",
    "celsiusToFarenheit()"
   ]
  },
  {
   "cell_type": "code",
   "execution_count": null,
   "id": "cb4025f6-6d26-4398-be39-47fb43130cf2",
   "metadata": {},
   "outputs": [],
   "source": [
    "3.Write a Python program to display calender ?\n",
    ">>"
   ]
  },
  {
   "cell_type": "code",
   "execution_count": 11,
   "id": "b7b45cec-f78d-4994-8a8f-d3358f4f1194",
   "metadata": {},
   "outputs": [
    {
     "name": "stdin",
     "output_type": "stream",
     "text": [
      "Enter the year:  2023\n"
     ]
    },
    {
     "name": "stdout",
     "output_type": "stream",
     "text": [
      "                                  2023\n",
      "\n",
      "      January                   February                   March\n",
      "Mo Tu We Th Fr Sa Su      Mo Tu We Th Fr Sa Su      Mo Tu We Th Fr Sa Su\n",
      "                   1             1  2  3  4  5             1  2  3  4  5\n",
      " 2  3  4  5  6  7  8       6  7  8  9 10 11 12       6  7  8  9 10 11 12\n",
      " 9 10 11 12 13 14 15      13 14 15 16 17 18 19      13 14 15 16 17 18 19\n",
      "16 17 18 19 20 21 22      20 21 22 23 24 25 26      20 21 22 23 24 25 26\n",
      "23 24 25 26 27 28 29      27 28                     27 28 29 30 31\n",
      "30 31\n",
      "\n",
      "       April                      May                       June\n",
      "Mo Tu We Th Fr Sa Su      Mo Tu We Th Fr Sa Su      Mo Tu We Th Fr Sa Su\n",
      "                1  2       1  2  3  4  5  6  7                1  2  3  4\n",
      " 3  4  5  6  7  8  9       8  9 10 11 12 13 14       5  6  7  8  9 10 11\n",
      "10 11 12 13 14 15 16      15 16 17 18 19 20 21      12 13 14 15 16 17 18\n",
      "17 18 19 20 21 22 23      22 23 24 25 26 27 28      19 20 21 22 23 24 25\n",
      "24 25 26 27 28 29 30      29 30 31                  26 27 28 29 30\n",
      "\n",
      "        July                     August                  September\n",
      "Mo Tu We Th Fr Sa Su      Mo Tu We Th Fr Sa Su      Mo Tu We Th Fr Sa Su\n",
      "                1  2          1  2  3  4  5  6                   1  2  3\n",
      " 3  4  5  6  7  8  9       7  8  9 10 11 12 13       4  5  6  7  8  9 10\n",
      "10 11 12 13 14 15 16      14 15 16 17 18 19 20      11 12 13 14 15 16 17\n",
      "17 18 19 20 21 22 23      21 22 23 24 25 26 27      18 19 20 21 22 23 24\n",
      "24 25 26 27 28 29 30      28 29 30 31               25 26 27 28 29 30\n",
      "31\n",
      "\n",
      "      October                   November                  December\n",
      "Mo Tu We Th Fr Sa Su      Mo Tu We Th Fr Sa Su      Mo Tu We Th Fr Sa Su\n",
      "                   1             1  2  3  4  5                   1  2  3\n",
      " 2  3  4  5  6  7  8       6  7  8  9 10 11 12       4  5  6  7  8  9 10\n",
      " 9 10 11 12 13 14 15      13 14 15 16 17 18 19      11 12 13 14 15 16 17\n",
      "16 17 18 19 20 21 22      20 21 22 23 24 25 26      18 19 20 21 22 23 24\n",
      "23 24 25 26 27 28 29      27 28 29 30               25 26 27 28 29 30 31\n",
      "30 31\n",
      "\n"
     ]
    }
   ],
   "source": [
    "import calendar\n",
    "\n",
    "def showCalendar():\n",
    "    year = int(input(\"Enter the year: \"))\n",
    "    print(calendar.calendar(year))\n",
    "\n",
    "showCalendar()"
   ]
  },
  {
   "cell_type": "code",
   "execution_count": null,
   "id": "a8652f99-a2df-4287-bc1d-8b681884ef56",
   "metadata": {},
   "outputs": [],
   "source": [
    "4.Write a Python program to solve quadartic equation ?\n",
    ">>"
   ]
  },
  {
   "cell_type": "code",
   "execution_count": 15,
   "id": "27136477-ed21-45f1-a595-dd9e4bc35370",
   "metadata": {},
   "outputs": [
    {
     "name": "stdin",
     "output_type": "stream",
     "text": [
      "Enter a value:  1\n",
      "Enter a value:  3\n",
      "Enter a value:  14\n"
     ]
    },
    {
     "name": "stdout",
     "output_type": "stream",
     "text": [
      "Roots are Imaginary (-1.5-3.427827300200522j) (-1.5+3.427827300200522j)\n"
     ]
    }
   ],
   "source": [
    "import math\n",
    "import cmath\n",
    "\n",
    "def quadEquation(a,b,c):\n",
    "    \n",
    "    discriminant = b*b - 4*a*c\n",
    "    \n",
    "    if discriminant == 0:\n",
    "        r1 = -b/2*a\n",
    "        r2 = -b/2*a\n",
    "        print('The roots are real',r1,r2)\n",
    "    elif discriminant > 0:\n",
    "        r1 = (-b-math.sqrt(discriminant))/(2*a)\n",
    "        r2 = (-b-math.sqrt(discriminant))/(2*a)\n",
    "        print('Roots are real and different',r1,r2)\n",
    "    else:\n",
    "        r1 = (-b-cmath.sqrt(discriminant))/(2*a)\n",
    "        r2 = (-b+cmath.sqrt(discriminant))/(2*a)\n",
    "        print('Roots are Imaginary',r1,r2)\n",
    "    \n",
    "a = int(input('Enter a value: '))\n",
    "b = int(input('Enter a value: '))\n",
    "c = int(input('Enter a value: '))\n",
    "\n",
    "quadEquation(a,b,c)"
   ]
  },
  {
   "cell_type": "code",
   "execution_count": null,
   "id": "c352fa8f-37d4-4783-b4b3-77238b6fc28a",
   "metadata": {},
   "outputs": [],
   "source": [
    "5.Write a Python program to swap two variables without temp variable ?\n",
    ">>"
   ]
  },
  {
   "cell_type": "code",
   "execution_count": 22,
   "id": "41a9c28a-5b3f-4d43-8d48-e9b7386b8b65",
   "metadata": {},
   "outputs": [
    {
     "name": "stdin",
     "output_type": "stream",
     "text": [
      "Enter 1st number:  24\n",
      "Enter 2nd number:  998\n"
     ]
    },
    {
     "name": "stdout",
     "output_type": "stream",
     "text": [
      "Before swapping, first number is24 and second number is 998\n",
      "After swapping, first number is 998 and second number is 24\n"
     ]
    }
   ],
   "source": [
    "def swap(num1,num2):\n",
    "    num1 = int(input('Enter 1st number: '))\n",
    "    num2 = int(input('Enter 2nd number: '))\n",
    "    print(f'Before swapping, first number is{num1} and second number is {num2}')\n",
    "    num1 = num1 + num2\n",
    "    num2 = num1 - num2\n",
    "    num1 = num1 - num2\n",
    "    print(f'After swapping, first number is {num1} and second number is {num2}')\n",
    "    \n",
    "swap(num1,num2)"
   ]
  },
  {
   "cell_type": "code",
   "execution_count": null,
   "id": "90f8c987-79cd-45d8-aad2-8d84808be49e",
   "metadata": {},
   "outputs": [],
   "source": []
  }
 ],
 "metadata": {
  "kernelspec": {
   "display_name": "Python 3 (ipykernel)",
   "language": "python",
   "name": "python3"
  },
  "language_info": {
   "codemirror_mode": {
    "name": "ipython",
    "version": 3
   },
   "file_extension": ".py",
   "mimetype": "text/x-python",
   "name": "python",
   "nbconvert_exporter": "python",
   "pygments_lexer": "ipython3",
   "version": "3.10.6"
  }
 },
 "nbformat": 4,
 "nbformat_minor": 5
}
