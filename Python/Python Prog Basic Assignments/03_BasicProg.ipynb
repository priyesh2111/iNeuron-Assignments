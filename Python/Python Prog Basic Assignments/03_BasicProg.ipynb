{
 "cells": [
  {
   "cell_type": "code",
   "execution_count": null,
   "id": "ca3b2048-821a-480f-932f-c5b14a02d1a4",
   "metadata": {},
   "outputs": [],
   "source": [
    "ASSIGNMENT 3"
   ]
  },
  {
   "cell_type": "code",
   "execution_count": null,
   "id": "77355670-154a-47ae-aa35-a9699a156948",
   "metadata": {},
   "outputs": [],
   "source": [
    "1.Write a Python program to check if a Number is Positive, Negative or Zero ?\n",
    ">>"
   ]
  },
  {
   "cell_type": "code",
   "execution_count": 6,
   "id": "d3a45f35-1016-49e1-9a8c-702ac0ed96eb",
   "metadata": {},
   "outputs": [
    {
     "name": "stdin",
     "output_type": "stream",
     "text": [
      "Enter a number:  -35\n"
     ]
    },
    {
     "name": "stdout",
     "output_type": "stream",
     "text": [
      "-35 is negative\n"
     ]
    }
   ],
   "source": [
    "def checkNumber():\n",
    "    num = int(input('Enter a number: '))\n",
    "    if num > 0:\n",
    "        print(f'{num} is postive')\n",
    "    elif num < 0:\n",
    "        print(f'{num} is negative')\n",
    "    else:\n",
    "        print(f'{num} is zero')\n",
    "        \n",
    "checkNumber()"
   ]
  },
  {
   "cell_type": "code",
   "execution_count": null,
   "id": "3e154a9d-aed7-4b5f-8494-e88874fe5165",
   "metadata": {},
   "outputs": [],
   "source": [
    "2.Write a Python program to check if a Number is Odd or Even ?\n",
    ">>"
   ]
  },
  {
   "cell_type": "code",
   "execution_count": 11,
   "id": "a88340c6-1c59-4cc3-bfb2-f7fc7585113c",
   "metadata": {},
   "outputs": [
    {
     "name": "stdin",
     "output_type": "stream",
     "text": [
      "Enter a number:  3677\n"
     ]
    },
    {
     "name": "stdout",
     "output_type": "stream",
     "text": [
      "3677 is a Odd number\n"
     ]
    }
   ],
   "source": [
    "def checkNumber(num):\n",
    "    if num%2 == 0:\n",
    "        print(f'{num} is a Even number')\n",
    "    else:\n",
    "        print(f'{num} is a Odd number')\n",
    "        \n",
    "num = int(input(\"Enter a number: \"))\n",
    "checkNumber(num)"
   ]
  },
  {
   "cell_type": "code",
   "execution_count": null,
   "id": "2841f6c7-47db-4487-90c7-3b4cde93357d",
   "metadata": {},
   "outputs": [],
   "source": [
    "3.Write a Python program to check Leap Year ?\n",
    ">>"
   ]
  },
  {
   "cell_type": "code",
   "execution_count": 13,
   "id": "eb474fb9-9c23-42f1-8236-448d5e19ca1a",
   "metadata": {},
   "outputs": [
    {
     "name": "stdin",
     "output_type": "stream",
     "text": [
      "Enter the year:  2000\n"
     ]
    },
    {
     "name": "stdout",
     "output_type": "stream",
     "text": [
      "2000 is a Leap year\n"
     ]
    }
   ],
   "source": [
    "def leapYear(year):\n",
    "    if (year%400 == 0, year%100!= 0, year%400 == 0):\n",
    "        print(f'{year} is a Leap year')\n",
    "    else:\n",
    "        print(f'{year} is not a Leap year')\n",
    "\n",
    "year = int(input('Enter the year: '))\n",
    "leapYear(year)"
   ]
  },
  {
   "cell_type": "code",
   "execution_count": null,
   "id": "84b1a43e-6888-48b6-80ed-417bbc65d43c",
   "metadata": {},
   "outputs": [],
   "source": [
    "4.Write a Python program to check Prime Number ?\n",
    ">>"
   ]
  },
  {
   "cell_type": "code",
   "execution_count": 4,
   "id": "29001086-75dc-42b7-8500-1b1e99d1adba",
   "metadata": {},
   "outputs": [
    {
     "name": "stdin",
     "output_type": "stream",
     "text": [
      "Enter a number:  67\n"
     ]
    },
    {
     "name": "stdout",
     "output_type": "stream",
     "text": [
      "67 is a prime number\n"
     ]
    }
   ],
   "source": [
    "def isPrime(num):\n",
    "    flag = False\n",
    "    for i in range(2,num):\n",
    "        if num%i ==0:\n",
    "            flag= True\n",
    "            break\n",
    "    if(not flag):\n",
    "        print(f'{num} is a prime number')\n",
    "    else:\n",
    "        print(f'{num} is not a prime number')\n",
    "        \n",
    "number = int(input(\"Enter a number: \"))\n",
    "isPrime(number)"
   ]
  },
  {
   "cell_type": "code",
   "execution_count": null,
   "id": "a17260de-389b-45a9-af59-47cbabafc493",
   "metadata": {},
   "outputs": [],
   "source": [
    "5.Write a Python program to print all Prime Numbers in an interval of 1-10000 ?\n",
    ">>"
   ]
  },
  {
   "cell_type": "code",
   "execution_count": 10,
   "id": "25f263db-dbb9-4e0c-8c13-0a8e0a0f63f9",
   "metadata": {},
   "outputs": [
    {
     "name": "stdout",
     "output_type": "stream",
     "text": [
      "[1, 2, 3, 5, 7, 11, 13, 17, 19, 23, 29, 31, 37, 41, 43, 47, 53, 59, 61, 67, 71, 73, 79, 83, 89, 97, 101, 103, 107, 109, 113, 127, 131, 137, 139, 149, 151, 157, 163, 167, 173, 179, 181, 191, 193, 197, 199, 211, 223, 227, 229, 233, 239, 241, 251, 257, 263, 269, 271, 277, 281, 283, 293, 307, 311, 313, 317, 331, 337, 347, 349, 353, 359, 367, 373, 379, 383, 389, 397, 401, 409, 419, 421, 431, 433, 439, 443, 449, 457, 461, 463, 467, 479, 487, 491, 499, 503, 509, 521, 523, 541, 547, 557, 563, 569, 571, 577, 587, 593, 599, 601, 607, 613, 617, 619, 631, 641, 643, 647, 653, 659, 661, 673, 677, 683, 691, 701, 709, 719, 727, 733, 739, 743, 751, 757, 761, 769, 773, 787, 797, 809, 811, 821, 823, 827, 829, 839, 853, 857, 859, 863, 877, 881, 883, 887, 907, 911, 919, 929, 937, 941, 947, 953, 967, 971, 977, 983, 991, 997]\n"
     ]
    }
   ],
   "source": [
    "primeNumbersList = []\n",
    "\n",
    "def primeNum():\n",
    "    for x in range(1,1000):\n",
    "        flag = False\n",
    "        for y in range(2,x):\n",
    "            if (x%y ==0):\n",
    "                flag = True\n",
    "                break\n",
    "        if (not flag):\n",
    "            primeNumbersList.append(x)\n",
    "        \n",
    "primeNum()\n",
    "print(primeNumbersList)   "
   ]
  },
  {
   "cell_type": "code",
   "execution_count": null,
   "id": "7ac8f38f-2376-4fe2-8035-c9993f5876cc",
   "metadata": {},
   "outputs": [],
   "source": []
  }
 ],
 "metadata": {
  "kernelspec": {
   "display_name": "Python 3 (ipykernel)",
   "language": "python",
   "name": "python3"
  },
  "language_info": {
   "codemirror_mode": {
    "name": "ipython",
    "version": 3
   },
   "file_extension": ".py",
   "mimetype": "text/x-python",
   "name": "python",
   "nbconvert_exporter": "python",
   "pygments_lexer": "ipython3",
   "version": "3.10.6"
  }
 },
 "nbformat": 4,
 "nbformat_minor": 5
}
