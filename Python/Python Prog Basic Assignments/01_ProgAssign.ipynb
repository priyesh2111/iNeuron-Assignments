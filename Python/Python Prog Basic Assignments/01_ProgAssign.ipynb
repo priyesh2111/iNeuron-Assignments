{
 "cells": [
  {
   "cell_type": "code",
   "execution_count": null,
   "id": "0ca58d46-cf2f-4d27-9ded-ecdbc0a831cc",
   "metadata": {},
   "outputs": [],
   "source": [
    "PROGRAMMING ASSIGNMENT 1"
   ]
  },
  {
   "cell_type": "code",
   "execution_count": null,
   "id": "98ffdf28-19a8-4177-b145-ef98dd4672c9",
   "metadata": {},
   "outputs": [],
   "source": [
    "1.Write a Python program to print 'Hello Python' ?\n",
    ">>"
   ]
  },
  {
   "cell_type": "code",
   "execution_count": 1,
   "id": "17a34f9c-09cd-4e3d-9cbc-cba5775383c2",
   "metadata": {},
   "outputs": [
    {
     "name": "stdout",
     "output_type": "stream",
     "text": [
      "Hello Python\n"
     ]
    }
   ],
   "source": [
    "print('Hello Python')"
   ]
  },
  {
   "cell_type": "code",
   "execution_count": null,
   "id": "f7d88cbb-4d3d-435c-901c-bd7a6267be5c",
   "metadata": {},
   "outputs": [],
   "source": [
    "2.Write a Python program to do arithmetic operations addition and division ?\n",
    ">>"
   ]
  },
  {
   "cell_type": "code",
   "execution_count": 5,
   "id": "100bed5d-e93b-4e98-8000-989f742873e6",
   "metadata": {},
   "outputs": [
    {
     "name": "stdout",
     "output_type": "stream",
     "text": [
      "Python Program for arthmetic operations addition and division \n",
      "\n"
     ]
    },
    {
     "name": "stdin",
     "output_type": "stream",
     "text": [
      "Enter 1st number for addition:  10\n",
      "Enter 2nd number for addition:  48\n"
     ]
    },
    {
     "name": "stdout",
     "output_type": "stream",
     "text": [
      "The Addition of 10 and 48 is 58\n",
      "\n"
     ]
    },
    {
     "name": "stdin",
     "output_type": "stream",
     "text": [
      "Enter 1st number for divsion:  38\n",
      "Enter 2nd number for divison:  9\n"
     ]
    },
    {
     "name": "stdout",
     "output_type": "stream",
     "text": [
      "The Divsion of 38 and 9 is 4.222222222222222\n",
      "\n"
     ]
    }
   ],
   "source": [
    "print('Python Program for arthmetic operations addition and division \\n')\n",
    "num1 = int(input('Enter 1st number for addition: '))\n",
    "num2 = int(input('Enter 2nd number for addition: '))\n",
    "add = num1 + num2\n",
    "print(f'The Addition of {num1} and {num2} is {add}\\n')\n",
    "      \n",
    "num1 = int(input('Enter 1st number for divsion: '))\n",
    "num2 = int(input('Enter 2nd number for divison: '))\n",
    "div = num1  / num2\n",
    "print(f'The Divsion of {num1} and {num2} is {div}\\n')"
   ]
  },
  {
   "cell_type": "code",
   "execution_count": null,
   "id": "f1045cfe-24e4-46ce-85d2-bb3b867e191f",
   "metadata": {},
   "outputs": [],
   "source": [
    "3.Write a Python program to find the area of a triangle ?\n",
    ">>"
   ]
  },
  {
   "cell_type": "code",
   "execution_count": 9,
   "id": "481a3bf6-54e2-4d50-a489-085b141b52bb",
   "metadata": {},
   "outputs": [
    {
     "name": "stdout",
     "output_type": "stream",
     "text": [
      "To Find the Area of Triangle\n",
      "\n"
     ]
    },
    {
     "name": "stdin",
     "output_type": "stream",
     "text": [
      "Enter the height of triangle:  10\n",
      "Enter the base of triangle 10\n"
     ]
    },
    {
     "name": "stdout",
     "output_type": "stream",
     "text": [
      "\n",
      "The area of triangle is 50.0\n"
     ]
    }
   ],
   "source": [
    "print('To Find the Area of Triangle\\n')\n",
    "height = int(input('Enter the height of triangle: '))\n",
    "base = int(input('Enter the base of triangle'))\n",
    "def areaOfTri():\n",
    "    area = 0.5*height*base\n",
    "    print(f'\\nThe area of triangle is {area}')\n",
    "    \n",
    "areaOfTri()"
   ]
  },
  {
   "cell_type": "markdown",
   "id": "d7527bbd-cd70-487c-b4e9-849e5646d2b2",
   "metadata": {},
   "source": [
    "4.Write a Python program to swap two variables ?\n",
    ">>"
   ]
  },
  {
   "cell_type": "code",
   "execution_count": 19,
   "id": "086f6cdb-4f64-4187-b819-35339fddcf73",
   "metadata": {},
   "outputs": [
    {
     "name": "stdout",
     "output_type": "stream",
     "text": [
      "First number is 10\n",
      "Second number is 120\n",
      "\n",
      "After swapping, \n",
      "value of first number is: 120\n",
      "value of second number is: 10\n"
     ]
    }
   ],
   "source": [
    "def swap(a,b):\n",
    "    print('First number is',a)\n",
    "    print('Second number is',b)\n",
    "    temp=a\n",
    "    a=b\n",
    "    b=temp\n",
    "    print(f'\\nAfter swapping, \\nvalue of first number is: {a}\\nvalue of second number is: {b}')\n",
    "\n",
    "swap(10,120)"
   ]
  },
  {
   "cell_type": "code",
   "execution_count": null,
   "id": "35a91877-80cd-4864-8156-5275f2a64261",
   "metadata": {},
   "outputs": [],
   "source": [
    "5.Write a Python program to generate a random number ?\n",
    ">>"
   ]
  },
  {
   "cell_type": "code",
   "execution_count": 15,
   "id": "17bfbe7b-300b-492b-96e5-85e2e2d6a476",
   "metadata": {},
   "outputs": [
    {
     "name": "stdout",
     "output_type": "stream",
     "text": [
      "Random Number generated =  146532\n",
      "Random Number generated =  72\n",
      "Random Number generated =  9\n"
     ]
    }
   ],
   "source": [
    "from random import randint\n",
    "\n",
    "def randomNumber(start=0, end=1000000):\n",
    "    print('Random Number generated = ',randint(start,end))\n",
    "    \n",
    "randomNumber()\n",
    "randomNumber(0,100)\n",
    "randomNumber(0,10)"
   ]
  },
  {
   "cell_type": "code",
   "execution_count": null,
   "id": "b12e9b74-b4e8-414f-b3f3-5fdf50a6c86d",
   "metadata": {},
   "outputs": [],
   "source": []
  }
 ],
 "metadata": {
  "kernelspec": {
   "display_name": "Python 3 (ipykernel)",
   "language": "python",
   "name": "python3"
  },
  "language_info": {
   "codemirror_mode": {
    "name": "ipython",
    "version": 3
   },
   "file_extension": ".py",
   "mimetype": "text/x-python",
   "name": "python",
   "nbconvert_exporter": "python",
   "pygments_lexer": "ipython3",
   "version": "3.10.6"
  }
 },
 "nbformat": 4,
 "nbformat_minor": 5
}
