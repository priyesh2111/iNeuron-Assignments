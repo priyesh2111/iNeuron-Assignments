{
 "cells": [
  {
   "cell_type": "markdown",
   "id": "e26432d4-ae2b-4a26-822b-4bb7c696a61a",
   "metadata": {},
   "source": [
    "# Assignment 5 "
   ]
  },
  {
   "cell_type": "markdown",
   "id": "b6617103-7d05-494d-bbb0-f07a844b23a4",
   "metadata": {},
   "source": [
    "### 1. Write a Python Program to find LCM ?\n"
   ]
  },
  {
   "cell_type": "code",
   "execution_count": 24,
   "id": "9f64525e-338b-4fee-949b-4f154df4c42f",
   "metadata": {},
   "outputs": [
    {
     "name": "stdout",
     "output_type": "stream",
     "text": [
      "The LCM of 3,6 is 6\n",
      "The LCM of 5,2 is 10\n"
     ]
    }
   ],
   "source": [
    "def findLcm(x,y):\n",
    "    if x > y:\n",
    "        z = x\n",
    "    else:\n",
    "        z = y\n",
    "    while True:\n",
    "        if((z%x == 0) and (z%y == 0)):\n",
    "            lcm = z\n",
    "            break\n",
    "        else:\n",
    "            z +=1\n",
    "    print(f'The LCM of {x},{y} is {lcm}')\n",
    "\n",
    "findLcm(3,6)\n",
    "findLcm(5,2)"
   ]
  },
  {
   "cell_type": "markdown",
   "id": "67021ee7-4bd9-4f18-8237-27e2d2140b83",
   "metadata": {},
   "source": [
    "### 2. Write a Python Program to find HCF ?\n"
   ]
  },
  {
   "cell_type": "code",
   "execution_count": 25,
   "id": "3c5c9a9c-85a6-421f-8f92-8d5e7f824834",
   "metadata": {},
   "outputs": [
    {
     "name": "stdout",
     "output_type": "stream",
     "text": [
      "The HCF of 6,12 is 6\n",
      "The HCF of 10,9 is 1\n"
     ]
    }
   ],
   "source": [
    "def findHcf(x,y):\n",
    "    if x > y:\n",
    "        smaller = y\n",
    "    else:\n",
    "        smaller = x\n",
    "    for i in range(1,smaller+1):\n",
    "        if((x%i==0) and (y%i==0)):\n",
    "            hcf = i\n",
    "            \n",
    "    print(f'The HCF of {x},{y} is {hcf}')\n",
    "    \n",
    "findHcf(6,12) \n",
    "findHcf(10,9)"
   ]
  },
  {
   "cell_type": "markdown",
   "id": "d9dcc70a-ce7f-40d9-bebb-d0e9d623c9c2",
   "metadata": {},
   "source": [
    "### 3. Write a Python Program to Convert Decimal to Binary, Octal and Hexadecimal ?\n"
   ]
  },
  {
   "cell_type": "code",
   "execution_count": 26,
   "id": "6ecbccd1-8b66-4a96-b2d8-32e08ba53ff1",
   "metadata": {},
   "outputs": [
    {
     "name": "stdin",
     "output_type": "stream",
     "text": [
      "Enter a number:  455\n"
     ]
    },
    {
     "name": "stdout",
     "output_type": "stream",
     "text": [
      "Converted to Binary Num - 0b111000111\n",
      "Converted to Octal Num - 0o707\n",
      "Converted to Hexadecimal Num - 0x1c7\n"
     ]
    }
   ],
   "source": [
    "def convertDec():\n",
    "    num = int(input('Enter a number: '))\n",
    "    print(f'Converted to Binary Num - {bin(num)}')\n",
    "    print(f'Converted to Octal Num - {oct(num)}')\n",
    "    print(f'Converted to Hexadecimal Num - {hex(num)}')\n",
    "\n",
    "convertDec()"
   ]
  },
  {
   "cell_type": "markdown",
   "id": "d7062d4c-b511-4ce2-bc45-55276175d1ce",
   "metadata": {},
   "source": [
    "### 4. Write a Python Program to Find the ASCII value of a Character ?\n"
   ]
  },
  {
   "cell_type": "code",
   "execution_count": 19,
   "id": "cf23b669-cfef-4148-9bc9-9269464486b5",
   "metadata": {},
   "outputs": [
    {
     "name": "stdin",
     "output_type": "stream",
     "text": [
      "Enter a character:  $\n"
     ]
    },
    {
     "name": "stdout",
     "output_type": "stream",
     "text": [
      "Ascii value of $ is 36\n"
     ]
    }
   ],
   "source": [
    "def charToAscii():\n",
    "    char = input('Enter a character: ')\n",
    "    if len(char) > 1:\n",
    "        print('Enter a single character')\n",
    "    else:\n",
    "        print(f'Ascii value of {char} is {ord(char)}')\n",
    "\n",
    "charToAscii()"
   ]
  },
  {
   "cell_type": "markdown",
   "id": "bb08c4cb-db0f-4396-864c-371214f87475",
   "metadata": {},
   "source": [
    "### 5. Write a Python Program to Make a Simple Calculator with 4 Basic Mathematical operations ?\n"
   ]
  },
  {
   "cell_type": "code",
   "execution_count": 23,
   "id": "ac1b1b40-4c47-41e2-98c5-7da1a7d4b7fd",
   "metadata": {},
   "outputs": [
    {
     "name": "stdout",
     "output_type": "stream",
     "text": [
      "Select a Arithmetic Operation:         \n",
      "1.Addition(+)        \n",
      "2.Division(-)        \n",
      "2.Multiplication(*)        \n",
      "4.Division(/)        \n",
      "3.Stop(0)\n",
      "\n"
     ]
    },
    {
     "name": "stdin",
     "output_type": "stream",
     "text": [
      "Enter an arithmetic operation:  *\n",
      "\n",
      "Enter 1st Number:  12\n",
      "Enter 2nd Number:  4\n"
     ]
    },
    {
     "name": "stdout",
     "output_type": "stream",
     "text": [
      "12*4=48\n",
      "\n"
     ]
    },
    {
     "name": "stdin",
     "output_type": "stream",
     "text": [
      "Enter an arithmetic operation:  -\n",
      "\n",
      "Enter 1st Number:  23\n",
      "Enter 2nd Number:  5\n"
     ]
    },
    {
     "name": "stdout",
     "output_type": "stream",
     "text": [
      "23-5=18\n",
      "\n"
     ]
    },
    {
     "name": "stdin",
     "output_type": "stream",
     "text": [
      "Enter an arithmetic operation:  +234\n"
     ]
    },
    {
     "name": "stdout",
     "output_type": "stream",
     "text": [
      "Please enter a valid operator\n"
     ]
    },
    {
     "name": "stdin",
     "output_type": "stream",
     "text": [
      "Enter an arithmetic operation:  +\n",
      "\n",
      "Enter 1st Number:  34\n",
      "Enter 2nd Number:  45\n"
     ]
    },
    {
     "name": "stdout",
     "output_type": "stream",
     "text": [
      "34+45=79\n",
      "\n"
     ]
    },
    {
     "name": "stdin",
     "output_type": "stream",
     "text": [
      "Enter an arithmetic operation:  /\n",
      "\n",
      "Enter 1st Number:  12\n",
      "Enter 2nd Number:  3\n"
     ]
    },
    {
     "name": "stdout",
     "output_type": "stream",
     "text": [
      "12/3=4.0\n",
      "\n"
     ]
    },
    {
     "name": "stdin",
     "output_type": "stream",
     "text": [
      "Enter an arithmetic operation:  0\n"
     ]
    },
    {
     "name": "stdout",
     "output_type": "stream",
     "text": [
      "Program stopped\n"
     ]
    }
   ],
   "source": [
    "import operator\n",
    "\n",
    "ops = {\"+\": operator.add, \"-\": operator.sub, \"*\": operator.mul, \"/\":operator.truediv}\n",
    "\n",
    "print('Select a Arithmetic Operation: \\\n",
    "        \\n1.Addition(+)\\\n",
    "        \\n2.Division(-)\\\n",
    "        \\n2.Multiplication(*)\\\n",
    "        \\n4.Division(/)\\\n",
    "        \\n3.Stop(0)\\n')\n",
    "\n",
    "while True:\n",
    "    operator = input('Enter an arithmetic operation: ')\n",
    "    if operator == '0':\n",
    "        print(\"Program stopped\")\n",
    "        break\n",
    "    elif operator not in ['+','-','*','/']:\n",
    "        print(\"Please enter a valid operator\")\n",
    "    else:\n",
    "        num1 = int(input('\\nEnter 1st Number: '))\n",
    "        num2 = int(input('Enter 2nd Number: '))\n",
    "        print(f'{num1}{operator}{num2}={ops[operator](num1,num2)}\\n')"
   ]
  }
 ],
 "metadata": {
  "kernelspec": {
   "display_name": "Python 3 (ipykernel)",
   "language": "python",
   "name": "python3"
  },
  "language_info": {
   "codemirror_mode": {
    "name": "ipython",
    "version": 3
   },
   "file_extension": ".py",
   "mimetype": "text/x-python",
   "name": "python",
   "nbconvert_exporter": "python",
   "pygments_lexer": "ipython3",
   "version": "3.10.6"
  }
 },
 "nbformat": 4,
 "nbformat_minor": 5
}
