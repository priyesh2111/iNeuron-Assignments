{
 "cells": [
  {
   "cell_type": "code",
   "execution_count": null,
   "id": "5aa62934-f350-465b-b797-e9f057641124",
   "metadata": {},
   "outputs": [],
   "source": [
    "ASSIGNMENT 1\n",
    "\n",
    "1. In the below elements which of them are values or an expression? eg:- values can be integer or string and expressions will be mathematical operators.\n",
    "*,'hello', -87.8,-,/,+,6\n",
    "\n",
    ">>Operators & Expressions are :\n",
    "    Operators = *, -, /, +\n",
    "    Expressions = -87, 8, 6"
   ]
  },
  {
   "cell_type": "code",
   "execution_count": null,
   "id": "09ddc358-3f54-4703-9f4b-56be47fb3ad0",
   "metadata": {},
   "outputs": [],
   "source": [
    "2. What is the difference between string and variable?\n",
    "\n",
    ">> Variables are used to store in a reserved memory location and strings are a data type which is stored in a variable.Values in string are enclosed \n",
    "in single quote('') or double quotes(\"\")"
   ]
  },
  {
   "cell_type": "code",
   "execution_count": null,
   "id": "b664af25-716b-464c-8285-254a29932cbc",
   "metadata": {},
   "outputs": [],
   "source": [
    "3. Describe three different Data Types ?\n",
    "\n",
    ">> There are serveral types of data which is stored in varibles.The type of data which is stored in variable are Data Types.\n",
    "Different Data Types are:\n",
    "    1.Numeric Data Type\n",
    "    2.String Data Type\n",
    "    3.Sequence Data Type\n",
    "    4.Binary Data Type\n",
    "    \n",
    "    >int : it stores integer type which contains positive and negative.\n",
    "    >complex : it stores complex numbers.\n",
    "    >string : it contains group of characters which supports unicode characters."
   ]
  },
  {
   "cell_type": "code",
   "execution_count": null,
   "id": "72f0095e-e012-432f-b71e-0c64ca7cb7b5",
   "metadata": {},
   "outputs": [],
   "source": [
    "4. What is an expression made up of? What do all expressions do?\n",
    "\n",
    ">> An expression is a combination of variables, operators & operands.Expressions are evaluated by python interpreter.\n",
    "    x = 34 + 35 is an example of expression."
   ]
  },
  {
   "cell_type": "code",
   "execution_count": null,
   "id": "e9e3167c-276a-4ebf-9122-2b415d2f09ab",
   "metadata": {},
   "outputs": [],
   "source": [
    "5.This assignment statements, like spam = 10. What is the difference between an expression and a statement?\n",
    "\n",
    ">> An expression is a combination of variables, operators & operands.Expressions are evaluated by python interpreter.\n",
    "    eg. : x = 78 - 37\n",
    "    \n",
    "A statement is an instruction which python interpreter has to execute.Suppose creating a varible is a statement.\n",
    "    eg. : x = 90"
   ]
  },
  {
   "cell_type": "code",
   "execution_count": null,
   "id": "f16e9399-57ec-441e-a081-f9777cff19ae",
   "metadata": {},
   "outputs": [],
   "source": [
    "6.After running the following code, what does the variable bacon contain?\n",
    "bacon = 22\n",
    "bacon + 1\n",
    "\n",
    ">> Variable bacon is set to 22.But the expression (bacon + 1) does not reassign its value. It has to mention the variable where to store it like (bacon = bacon + 1)"
   ]
  },
  {
   "cell_type": "code",
   "execution_count": 6,
   "id": "8f8df356-c746-4ace-b986-ecd576f95f5c",
   "metadata": {},
   "outputs": [
    {
     "name": "stdout",
     "output_type": "stream",
     "text": [
      "22\n"
     ]
    }
   ],
   "source": [
    "bacon = 22\n",
    "bacon + 1\n",
    "print(bacon)"
   ]
  },
  {
   "cell_type": "code",
   "execution_count": 7,
   "id": "efb07332-5c4b-449a-85ac-667deedd8b5a",
   "metadata": {},
   "outputs": [
    {
     "name": "stdout",
     "output_type": "stream",
     "text": [
      "23\n"
     ]
    }
   ],
   "source": [
    "#correct syntax:\n",
    "bacon = 22\n",
    "bacon = bacon + 1\n",
    "print(bacon)"
   ]
  },
  {
   "cell_type": "code",
   "execution_count": null,
   "id": "6605475c-bfe3-495c-a540-594b74ac3868",
   "metadata": {},
   "outputs": [],
   "source": [
    "7.What should the values of the following two terms be?\n",
    "'spam'+'spamspam'\n",
    "'spam'*3\n",
    ">> The output of both expressions is 'spamspamspam'. First one is string concatenation & second one is  string multiplication."
   ]
  },
  {
   "cell_type": "code",
   "execution_count": 8,
   "id": "7f62a82d-a743-49c4-bcec-4c26d0b3db24",
   "metadata": {},
   "outputs": [
    {
     "name": "stdout",
     "output_type": "stream",
     "text": [
      "spamspamspam\n",
      "spamspamspam\n"
     ]
    }
   ],
   "source": [
    "print('spam'+'spamspam')\n",
    "print('spam'*3)"
   ]
  },
  {
   "cell_type": "code",
   "execution_count": null,
   "id": "6c37ded5-f7d0-463e-921a-3bd466d1355d",
   "metadata": {},
   "outputs": [],
   "source": [
    "8. Why is eggs a valid variable name while 100 is invalid?\n",
    "\n",
    ">>According to naming conventions for variables in python does not allow variable names to start with digit letters & even special symbols cannot be \n",
    "used in varibale names.Variable name should start with a letter or an underscore character.It can only contain alphanumeric characters & underscores \n",
    "and variable names are also case-sensitive.Keywords are not allowed to use as varibale names."
   ]
  },
  {
   "cell_type": "code",
   "execution_count": null,
   "id": "263672f5-8e96-44c5-9040-d737e2847219",
   "metadata": {},
   "outputs": [],
   "source": [
    "9.What three functions can be used to get the integer,floating-point number,or string version of a value?\n",
    "\n",
    ">>int(), float() & str() are the functions used to get the integer,floating-point number,or string version of a value respectively."
   ]
  },
  {
   "cell_type": "code",
   "execution_count": 9,
   "id": "6d0e0411-7ceb-475d-9090-315e06448bf4",
   "metadata": {},
   "outputs": [
    {
     "name": "stdout",
     "output_type": "stream",
     "text": [
      "int(10.00) =  10\n",
      "float(10) =  10.0\n",
      "str(10) =  10\n"
     ]
    }
   ],
   "source": [
    "print('int(10.00) = ',int(10.00))\n",
    "print('float(10) = ',float(10))\n",
    "print('str(10) = ',str(10))"
   ]
  },
  {
   "cell_type": "code",
   "execution_count": null,
   "id": "60be20f9-9bb8-41b6-880c-2c3304458b5c",
   "metadata": {},
   "outputs": [],
   "source": [
    "10.Why does this expression cause an error? how can you fix it?\n",
    "'I have eaten ' + 99 + 'burritos.'\n",
    "\n",
    ">> This causes error because 99 is not a string & it has to be typecasted to a string using str()."
   ]
  },
  {
   "cell_type": "code",
   "execution_count": 11,
   "id": "48e5728b-5d30-41c3-a20f-ade9b9b2cec2",
   "metadata": {},
   "outputs": [
    {
     "name": "stdout",
     "output_type": "stream",
     "text": [
      "I have eaten 99burritos.\n"
     ]
    }
   ],
   "source": [
    "#fix of the error\n",
    "print('I have eaten '+str(99)+ 'burritos.')"
   ]
  },
  {
   "cell_type": "code",
   "execution_count": null,
   "id": "19998d6f-b34c-43f3-8a57-98160fd81b2b",
   "metadata": {},
   "outputs": [],
   "source": []
  }
 ],
 "metadata": {
  "kernelspec": {
   "display_name": "Python 3 (ipykernel)",
   "language": "python",
   "name": "python3"
  },
  "language_info": {
   "codemirror_mode": {
    "name": "ipython",
    "version": 3
   },
   "file_extension": ".py",
   "mimetype": "text/x-python",
   "name": "python",
   "nbconvert_exporter": "python",
   "pygments_lexer": "ipython3",
   "version": "3.10.6"
  }
 },
 "nbformat": 4,
 "nbformat_minor": 5
}
