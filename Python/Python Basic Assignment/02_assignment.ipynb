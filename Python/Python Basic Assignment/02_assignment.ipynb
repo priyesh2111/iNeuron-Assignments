{
 "cells": [
  {
   "cell_type": "code",
   "execution_count": null,
   "id": "fd1e9b00-4c46-40a8-b78e-f60a72c64b5b",
   "metadata": {},
   "outputs": [],
   "source": [
    "ASSIGNMENT 2"
   ]
  },
  {
   "cell_type": "code",
   "execution_count": null,
   "id": "07984cd9-7e74-43cb-8b00-e9a82061e73a",
   "metadata": {},
   "outputs": [],
   "source": [
    "1.What are the two values of the boolean data types? how do you write them ?\n",
    ">> The two values of the boolean data types are True and False and we use captial T and F for True and False respectively.\n",
    "Below is the example:"
   ]
  },
  {
   "cell_type": "code",
   "execution_count": 1,
   "id": "c57d0179-1d63-40be-ae91-6fa1b62a36bd",
   "metadata": {},
   "outputs": [
    {
     "name": "stdout",
     "output_type": "stream",
     "text": [
      "True <class 'bool'>\n",
      "False <class 'bool'>\n"
     ]
    }
   ],
   "source": [
    "x=True\n",
    "y=False\n",
    "print(x,type(x))\n",
    "print(y,type(y))"
   ]
  },
  {
   "cell_type": "code",
   "execution_count": null,
   "id": "8f169774-a95c-438d-86ce-43e8d95ce9f6",
   "metadata": {},
   "outputs": [],
   "source": [
    "2. What are the three different types of Boolean operators?\n",
    ">>The three different types of boolean operators are:\n",
    "    1. and\n",
    "    2. or\n",
    "    3. not"
   ]
  },
  {
   "cell_type": "code",
   "execution_count": null,
   "id": "dbb5ac41-aadd-4640-8222-879a554ff2ba",
   "metadata": {},
   "outputs": [
    {
     "name": "stdout",
     "output_type": "stream",
     "text": [
      "True\n",
      "True\n",
      "False\n"
     ]
    }
   ],
   "source": [
    "x=50\n",
    "y=100\n",
    "print(x>40 and y>60)\n",
    "print(x>100 or y>60)\n",
    "print(not(x>40))"
   ]
  },
  {
   "cell_type": "code",
   "execution_count": null,
   "id": "780b9a26-67fd-43be-bdf2-2917c631656f",
   "metadata": {
    "tags": []
   },
   "outputs": [],
   "source": [
    "3. Make a list of each Boolean operator's truth tables (i.e. every possible combination of Boolean values for the operator and what it evaluate) ?\n",
    ">> Truth tables of boolean operators: \n",
    "    \n",
    "Truth table for \"AND\" operator:\n",
    "    True and True is True\n",
    "    True and False is False\n",
    "    False and True is False\n",
    "    False and False is False\n",
    "    \n",
    "Truth table for \"OR\" operator:\n",
    "    True and True is True\n",
    "    True and False is True\n",
    "    False and True is True\n",
    "    False and False is False\n",
    "    \n",
    "Truth table for \"NOT\" operator:\n",
    "    not True is False \n",
    "    not False is True\n",
    "    "
   ]
  },
  {
   "cell_type": "code",
   "execution_count": null,
   "id": "aae8be07-e635-4d69-bb8f-2d4422955455",
   "metadata": {},
   "outputs": [],
   "source": [
    "4. What are the values of the following expressions ?\n",
    "    (5 > 4) and (3 == 5)\n",
    "    not (5 > 4)\n",
    "    (5 > 4) or (3 == 5)\n",
    "    not ((5 > 4) or (3 == 5))\n",
    "    (True and True) and (True == False)\n",
    "    (not False) or (not True)\n",
    ">>"
   ]
  },
  {
   "cell_type": "code",
   "execution_count": 9,
   "id": "dc2a2e40-95fb-448f-8b9b-7c8ab13ec8bd",
   "metadata": {},
   "outputs": [
    {
     "name": "stdout",
     "output_type": "stream",
     "text": [
      "False\n"
     ]
    }
   ],
   "source": [
    "print((5 > 4) and (3 == 5))"
   ]
  },
  {
   "cell_type": "code",
   "execution_count": 10,
   "id": "9c8847fe-ca1b-4ee0-85b0-46e503a81f16",
   "metadata": {},
   "outputs": [
    {
     "name": "stdout",
     "output_type": "stream",
     "text": [
      "False\n"
     ]
    }
   ],
   "source": [
    "print(not (5 > 4))"
   ]
  },
  {
   "cell_type": "code",
   "execution_count": 11,
   "id": "a457812e-0a2f-433d-9392-992164414bf2",
   "metadata": {},
   "outputs": [
    {
     "name": "stdout",
     "output_type": "stream",
     "text": [
      "True\n"
     ]
    }
   ],
   "source": [
    "print((5 > 4) or (3 == 5))"
   ]
  },
  {
   "cell_type": "code",
   "execution_count": 12,
   "id": "a8ddbafd-65d5-4038-99d1-a62918f7ad48",
   "metadata": {},
   "outputs": [
    {
     "name": "stdout",
     "output_type": "stream",
     "text": [
      "False\n"
     ]
    }
   ],
   "source": [
    "print(not ((5 > 4) or (3 == 5)))"
   ]
  },
  {
   "cell_type": "code",
   "execution_count": 14,
   "id": "0ec78983-57a9-486e-88f6-b6dea540a98b",
   "metadata": {},
   "outputs": [
    {
     "name": "stdout",
     "output_type": "stream",
     "text": [
      "False\n"
     ]
    }
   ],
   "source": [
    "print((True and True) and (True == False))"
   ]
  },
  {
   "cell_type": "code",
   "execution_count": 15,
   "id": "eba5acfc-4461-477e-adea-7bf77398dd0a",
   "metadata": {},
   "outputs": [
    {
     "name": "stdout",
     "output_type": "stream",
     "text": [
      "True\n"
     ]
    }
   ],
   "source": [
    "print((not False) or (not True))"
   ]
  },
  {
   "cell_type": "code",
   "execution_count": null,
   "id": "3b07d0ce-5746-496b-94ab-f02f591fd273",
   "metadata": {},
   "outputs": [],
   "source": [
    "5. What are the six comparison operators?\n",
    ">> Six comparison operators are:\n",
    "    == : equal to\n",
    "    != : not equal to\n",
    "    <  : less than\n",
    "    >  : greater than\n",
    "    <= : less than or equal to\n",
    "    >= : greater than or equal to"
   ]
  },
  {
   "cell_type": "code",
   "execution_count": null,
   "id": "72da70e2-8244-42c8-91fa-d10e92b2ab7e",
   "metadata": {},
   "outputs": [],
   "source": [
    "6. How do you tell the difference between the equal to and assignment operators?Describe a condition and when you would use one ?\n",
    ">> The assignment operator has single '=' and comparison assignment has double '=='."
   ]
  },
  {
   "cell_type": "code",
   "execution_count": 18,
   "id": "7a930723-300a-40ea-91c6-00904591ea57",
   "metadata": {},
   "outputs": [
    {
     "name": "stdout",
     "output_type": "stream",
     "text": [
      "True\n"
     ]
    }
   ],
   "source": [
    "a=10 #assignment operator use to store 10 in variable a\n",
    "if a==10:#comparison operator check if a is equal to 10 or not\n",
    "    print(a==10)"
   ]
  },
  {
   "cell_type": "code",
   "execution_count": null,
   "id": "6834d165-3853-4c65-911d-8fd84bf3a6f5",
   "metadata": {},
   "outputs": [],
   "source": [
    "7. Identify the three blocks in this code:\n",
    "spam = 0\n",
    "if spam == 10:\n",
    "print('eggs')\n",
    "if spam > 5:\n",
    "print('bacon')\n",
    "else:\n",
    "print('ham')\n",
    "print('spam')\n",
    "print('spam')\n",
    ">>"
   ]
  },
  {
   "cell_type": "code",
   "execution_count": 1,
   "id": "2c3f2b02-2925-4ae8-80ab-01b284f6089f",
   "metadata": {},
   "outputs": [
    {
     "name": "stdout",
     "output_type": "stream",
     "text": [
      "ham\n",
      "spam\n",
      "spam\n"
     ]
    }
   ],
   "source": [
    "spam = 0\n",
    "if spam == 10:\n",
    "    print('eggs') #<----- block 1\n",
    "if spam > 5:\n",
    "    print('bacon') #<---- block 2\n",
    "else:\n",
    "    print('ham') #<---- block 3\n",
    "print('spam')\n",
    "print('spam')"
   ]
  },
  {
   "cell_type": "code",
   "execution_count": null,
   "id": "f7777ef1-e134-4896-a608-49d4501d15d6",
   "metadata": {},
   "outputs": [],
   "source": [
    "8. Write code that prints Hello if 1 is stored in spam, prints Howdy if 2 is stored in spam, and prints Greetings! if anything else is stored in spam.\n",
    ">>"
   ]
  },
  {
   "cell_type": "code",
   "execution_count": 4,
   "id": "c0622478-611d-4c1c-ac30-e8e0a8290941",
   "metadata": {},
   "outputs": [
    {
     "name": "stdout",
     "output_type": "stream",
     "text": [
      "Hello\n",
      "Howdy\n",
      "Greetings!\n"
     ]
    }
   ],
   "source": [
    "def code(spam):\n",
    "    if spam == 1:\n",
    "        print('Hello')\n",
    "    elif spam == 2:\n",
    "        print('Howdy')\n",
    "    else:\n",
    "        print('Greetings!')\n",
    "    \n",
    "code(1)\n",
    "code(2)\n",
    "code(3)"
   ]
  },
  {
   "cell_type": "code",
   "execution_count": null,
   "id": "6a759153-1a12-47b5-82b0-0ae2153e72e4",
   "metadata": {},
   "outputs": [],
   "source": [
    "9.If your programme is stuck in an endless loop, what keys you’ll press?\n",
    ">> If my program is stuck in an endless loop I will press \"ctrl + c\" keys."
   ]
  },
  {
   "cell_type": "code",
   "execution_count": null,
   "id": "b5d8932d-0c8c-40a1-b19a-b8cfcb3f0117",
   "metadata": {},
   "outputs": [],
   "source": [
    "10. How can you tell the difference between break and continue?\n",
    ">> The break statement is used to terminate the loop when the condition is satisfied and the continue statement will only terminate the \n",
    "current iteration of the loop."
   ]
  },
  {
   "cell_type": "code",
   "execution_count": null,
   "id": "de61f668-14f9-49b5-b2de-27f0a3cde5ad",
   "metadata": {},
   "outputs": [],
   "source": [
    "11. In a for loop, what is the difference between range(10), range(0, 10), and range(0, 10, 1)?\n",
    ">>range(10) --> this states that the range starts from 0 and ends at 9\n",
    "range(0,10) --> this also tells that start from 0 and end at 10(wont include 10)\n",
    "range(0,10,1)-->this tells variable to increase its value by 1 where it starts from 0 and increments by 1 till it reaches the end"
   ]
  },
  {
   "cell_type": "code",
   "execution_count": null,
   "id": "499b4de1-0711-4001-96f2-ff9b5c872038",
   "metadata": {},
   "outputs": [],
   "source": [
    "12. Write a short program that prints the numbers 1 to 10 using a for loop. Then write an equivalent program that prints the numbers 1 to 10 \n",
    "using a while loop ?\n",
    ">>"
   ]
  },
  {
   "cell_type": "code",
   "execution_count": 9,
   "id": "8050fb72-1851-4ce5-ae17-7058f86374bb",
   "metadata": {},
   "outputs": [
    {
     "name": "stdout",
     "output_type": "stream",
     "text": [
      "Using For Loop:\n",
      "1 2 3 4 5 6 7 8 9 10 \n",
      "\n",
      "Using While Loop:\n",
      "1 2 3 4 5 6 7 8 9 10 "
     ]
    }
   ],
   "source": [
    "print('Using For Loop:')\n",
    "for i in range(1,11):\n",
    "    print(i, end=\" \")\n",
    "print('\\n')\n",
    "print('Using While Loop:') \n",
    "i=1\n",
    "while i<=10:\n",
    "    print(i, end=\" \")\n",
    "    i+=1"
   ]
  },
  {
   "cell_type": "code",
   "execution_count": null,
   "id": "b8ee03fb-d7c6-456a-a26e-834313f61569",
   "metadata": {},
   "outputs": [],
   "source": [
    "13. If you had a function named bacon() inside a module named spam, how would you call it after importing spam ?\n",
    ">> spam.bacon()"
   ]
  }
 ],
 "metadata": {
  "kernelspec": {
   "display_name": "Python 3 (ipykernel)",
   "language": "python",
   "name": "python3"
  },
  "language_info": {
   "codemirror_mode": {
    "name": "ipython",
    "version": 3
   },
   "file_extension": ".py",
   "mimetype": "text/x-python",
   "name": "python",
   "nbconvert_exporter": "python",
   "pygments_lexer": "ipython3",
   "version": "3.10.6"
  }
 },
 "nbformat": 4,
 "nbformat_minor": 5
}
